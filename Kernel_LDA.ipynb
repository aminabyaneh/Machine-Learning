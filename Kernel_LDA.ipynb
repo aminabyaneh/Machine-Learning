{
  "nbformat": 4,
  "nbformat_minor": 0,
  "metadata": {
    "colab": {
      "name": "Kernel_LDA.ipynb",
      "provenance": [],
      "collapsed_sections": [],
      "toc_visible": true,
      "include_colab_link": true
    },
    "kernelspec": {
      "name": "python3",
      "display_name": "Python 3"
    }
  },
  "cells": [
    {
      "cell_type": "markdown",
      "metadata": {
        "id": "view-in-github",
        "colab_type": "text"
      },
      "source": [
        "<a href=\"https://colab.research.google.com/github/aminabyaneh/Machine_Learning/blob/master/Kernel_LDA.ipynb\" target=\"_parent\"><img src=\"https://colab.research.google.com/assets/colab-badge.svg\" alt=\"Open In Colab\"/></a>"
      ]
    },
    {
      "cell_type": "markdown",
      "metadata": {
        "id": "90gKnWgves-7",
        "colab_type": "text"
      },
      "source": [
        "# LDA using local Kernel\n",
        "\n",
        "To perform this operation we need to execute the following steps."
      ]
    },
    {
      "cell_type": "markdown",
      "metadata": {
        "id": "x7laY-gSe2oA",
        "colab_type": "text"
      },
      "source": [
        "1. Importing data from sklearn digits. \n",
        "2. Checking the shape and size of data"
      ]
    },
    {
      "cell_type": "code",
      "metadata": {
        "id": "LiI5oA5FpkxU",
        "colab_type": "code",
        "outputId": "12932887-71a1-4ff6-878f-f2b50c336caa",
        "colab": {
          "base_uri": "https://localhost:8080/",
          "height": 51
        }
      },
      "source": [
        "# loading digits dataset\n",
        "from sklearn.datasets import load_digits\n",
        "digits = load_digits()\n",
        "print('shape of digits data:', digits.data.shape)\n",
        "print('shape of digits target:', digits.target.shape)"
      ],
      "execution_count": 0,
      "outputs": [
        {
          "output_type": "stream",
          "text": [
            "shape of digits data: (1797, 64)\n",
            "shape of digits target: (1797,)\n"
          ],
          "name": "stdout"
        }
      ]
    },
    {
      "cell_type": "markdown",
      "metadata": {
        "id": "xtvWeRMNfI8s",
        "colab_type": "text"
      },
      "source": [
        "3. Split test and train data and set aside 20 percent of data as test and the rest as train data.\n",
        "4. Evaluate shape and size after the operation"
      ]
    },
    {
      "cell_type": "code",
      "metadata": {
        "id": "8vgi67nevn3r",
        "colab_type": "code",
        "outputId": "34557976-4c87-43f5-8931-07b49c5d4ac9",
        "colab": {
          "base_uri": "https://localhost:8080/",
          "height": 51
        }
      },
      "source": [
        "# split train data from test data\n",
        "from sklearn.model_selection import train_test_split\n",
        "X_train, X_test, y_train, y_test = train_test_split(digits.data, digits.target, \n",
        "                                                    test_size=0.2)\n",
        "# print necessary data for train test split\n",
        "print('shape of X_train:', X_train.shape, ' \\tshape of X_test:', X_test.shape)\n",
        "print('shape of y_train:', y_train.shape, ' \\tshape of y_test:', y_test.shape)"
      ],
      "execution_count": 0,
      "outputs": [
        {
          "output_type": "stream",
          "text": [
            "shape of X_train: (1437, 64)  \tshape of X_test: (360, 64)\n",
            "shape of y_train: (1437,)  \tshape of y_test: (360,)\n"
          ],
          "name": "stdout"
        }
      ]
    },
    {
      "cell_type": "markdown",
      "metadata": {
        "id": "8Pc7_SGFgDdO",
        "colab_type": "text"
      },
      "source": [
        "5. Creating score calculator fuunction. This function is used to calculate the score of each train element with respect to test data. This function returns a list with calculated scores based on cosine similarity distance model. The calculate score function is meant to simulate the effect of weight in train data."
      ]
    },
    {
      "cell_type": "code",
      "metadata": {
        "id": "nvGekscXoRLC",
        "colab_type": "code",
        "colab": {}
      },
      "source": [
        "# importing numpy and norm library to calculate cosine similarity\n",
        "import numpy as np\n",
        "from numpy.linalg import norm\n",
        "\n",
        "sample_test = X_test[0]\n",
        "\n",
        "# scores list to add scores value\n",
        "dists = []\n",
        "dists.clear()\n",
        "\n",
        "# calculate score function to simulate the effect of weight in train data\n",
        "def calculate_scores(sample_test, X_train, l):\n",
        "  dists = []\n",
        "  for x in X_train:\n",
        "    dist = np.dot(x, sample_test) / (norm(x) * norm(sample_test))\n",
        "    dists.append(int(round((1 / dist) * l)))\n",
        "    \n",
        "  return dists\n",
        "    \n",
        "dists = calculate_scores(sample_test, X_train, 100)"
      ],
      "execution_count": 0,
      "outputs": []
    },
    {
      "cell_type": "markdown",
      "metadata": {
        "id": "iUe7dMP5hW4c",
        "colab_type": "text"
      },
      "source": [
        "### Test for all test points"
      ]
    },
    {
      "cell_type": "code",
      "metadata": {
        "id": "G1oDPd_qxtOV",
        "colab_type": "code",
        "outputId": "6335c67f-6629-420a-b1f1-0b880852a839",
        "colab": {
          "base_uri": "https://localhost:8080/",
          "height": 86
        }
      },
      "source": [
        "final_X_list = []\n",
        "final_y_list = []\n",
        "\n",
        "for s, m, k in zip(dists, y_train, X_train):\n",
        "  for i in range(0, s):\n",
        "    final_X_list.append(k)\n",
        "    final_y_list.append(m)\n",
        "    \n",
        "print(len(final_X_list), len(final_y_list))\n",
        "\n",
        "final_X_train = np.asarray(final_X_list)\n",
        "final_y_train = np.asarray(final_y_list)\n",
        "\n",
        "# scores list to add scores value\n",
        "from sklearn.discriminant_analysis import LinearDiscriminantAnalysis\n",
        "lda = LinearDiscriminantAnalysis()\n",
        "lda.fit(final_X_train, final_y_train) \n",
        "lda.score(X_test, y_test, sample_weight=None)"
      ],
      "execution_count": 0,
      "outputs": [
        {
          "output_type": "stream",
          "text": [
            "197180 197180\n"
          ],
          "name": "stdout"
        },
        {
          "output_type": "stream",
          "text": [
            "/usr/local/lib/python3.6/dist-packages/sklearn/discriminant_analysis.py:388: UserWarning: Variables are collinear.\n",
            "  warnings.warn(\"Variables are collinear.\")\n"
          ],
          "name": "stderr"
        },
        {
          "output_type": "execute_result",
          "data": {
            "text/plain": [
              "0.9472222222222222"
            ]
          },
          "metadata": {
            "tags": []
          },
          "execution_count": 8
        }
      ]
    },
    {
      "cell_type": "markdown",
      "metadata": {
        "id": "i4PX0zvght7F",
        "colab_type": "text"
      },
      "source": [
        "### Test for L = 10"
      ]
    },
    {
      "cell_type": "code",
      "metadata": {
        "id": "QdXM_tzX3exE",
        "colab_type": "code",
        "outputId": "750f467a-5344-4bd0-974c-05ec54f73c10",
        "colab": {
          "base_uri": "https://localhost:8080/",
          "height": 34
        }
      },
      "source": [
        "dists = []\n",
        "y_predict = []\n",
        "final_X_list = []\n",
        "final_y_list = []\n",
        "\n",
        "import warnings\n",
        "warnings.filterwarnings(\"ignore\")\n",
        "\n",
        "j = 0\n",
        "\n",
        "for x_t in X_test:\n",
        "  \n",
        "  dists = calculate_scores(x_t, X_train, 10)\n",
        "  \n",
        "  final_X_list.clear()\n",
        "  final_y_list.clear()\n",
        "\n",
        "  for s, m, k in zip(dists, y_train, X_train):\n",
        "    for i in range(0, s):\n",
        "      final_X_list.append(k)\n",
        "      final_y_list.append(m)\n",
        "\n",
        "  final_X_train = np.asarray(final_X_list)\n",
        "  final_y_train = np.asarray(final_y_list)\n",
        "  \n",
        "  lda.fit(final_X_train, final_y_train) \n",
        "  y_predict.append(lda.predict(X=[x_t]))\n",
        "\n",
        "# find accuracy scores of this prediction using sklearn metrics\n",
        "from sklearn.metrics import accuracy_score\n",
        "print(accuracy_score(y_test, np.asarray(y_predict)))"
      ],
      "execution_count": 0,
      "outputs": [
        {
          "output_type": "stream",
          "text": [
            "0.9361111111111111\n"
          ],
          "name": "stdout"
        }
      ]
    },
    {
      "cell_type": "markdown",
      "metadata": {
        "colab_type": "text",
        "id": "wGDNCSfZkAZ0"
      },
      "source": [
        "### Test for L = 2"
      ]
    },
    {
      "cell_type": "code",
      "metadata": {
        "id": "xLplMvOkjoVs",
        "colab_type": "code",
        "outputId": "ad876cde-a5e7-430d-c784-ce641ed19a36",
        "colab": {
          "base_uri": "https://localhost:8080/",
          "height": 34
        }
      },
      "source": [
        "dists = []\n",
        "y_predict = []\n",
        "final_X_list = []\n",
        "final_y_list = []\n",
        "\n",
        "import warnings\n",
        "warnings.filterwarnings(\"ignore\")\n",
        "\n",
        "j = 0\n",
        "\n",
        "for x_t in X_test:\n",
        "  \n",
        "  dists = calculate_scores(x_t, X_train, 2)\n",
        "  \n",
        "  final_X_list.clear()\n",
        "  final_y_list.clear()\n",
        "\n",
        "  for s, m, k in zip(dists, y_train, X_train):\n",
        "    for i in range(0, s):\n",
        "      final_X_list.append(k)\n",
        "      final_y_list.append(m)\n",
        "\n",
        "  final_X_train = np.asarray(final_X_list)\n",
        "  final_y_train = np.asarray(final_y_list)\n",
        "  \n",
        "  lda.fit(final_X_train, final_y_train) \n",
        "  y_predict.append(lda.predict(X=[x_t]))\n",
        "\n",
        "# find accuracy scores of this prediction using sklearn metrics\n",
        "from sklearn.metrics import accuracy_score\n",
        "print(accuracy_score(y_test, np.asarray(y_predict)))"
      ],
      "execution_count": 0,
      "outputs": [
        {
          "output_type": "stream",
          "text": [
            "0.9333333333333333\n"
          ],
          "name": "stdout"
        }
      ]
    },
    {
      "cell_type": "markdown",
      "metadata": {
        "colab_type": "text",
        "id": "ENywlokEkDEY"
      },
      "source": [
        "### Test for L = 15"
      ]
    },
    {
      "cell_type": "code",
      "metadata": {
        "id": "loPlkeVsjqtn",
        "colab_type": "code",
        "outputId": "c89fb41b-9715-42c2-99a5-e622665f3274",
        "colab": {
          "base_uri": "https://localhost:8080/",
          "height": 34
        }
      },
      "source": [
        "dists = []\n",
        "y_predict = []\n",
        "final_X_list = []\n",
        "final_y_list = []\n",
        "\n",
        "import warnings\n",
        "warnings.filterwarnings(\"ignore\")\n",
        "\n",
        "j = 0\n",
        "\n",
        "for x_t in X_test:\n",
        "  \n",
        "  dists = calculate_scores(x_t, X_train, 15)\n",
        "  \n",
        "  final_X_list.clear()\n",
        "  final_y_list.clear()\n",
        "\n",
        "  for s, m, k in zip(dists, y_train, X_train):\n",
        "    for i in range(0, s):\n",
        "      final_X_list.append(k)\n",
        "      final_y_list.append(m)\n",
        "\n",
        "  final_X_train = np.asarray(final_X_list)\n",
        "  final_y_train = np.asarray(final_y_list)\n",
        "  \n",
        "  lda.fit(final_X_train, final_y_train) \n",
        "  y_predict.append(lda.predict(X=[x_t]))\n",
        "\n",
        "# find accuracy scores of this prediction using sklearn metrics\n",
        "from sklearn.metrics import accuracy_score\n",
        "print(accuracy_score(y_test, np.asarray(y_predict)))"
      ],
      "execution_count": 0,
      "outputs": [
        {
          "output_type": "stream",
          "text": [
            "0.9361111111111111\n"
          ],
          "name": "stdout"
        }
      ]
    },
    {
      "cell_type": "markdown",
      "metadata": {
        "colab_type": "text",
        "id": "q3EilBmNkHQE"
      },
      "source": [
        "### Test for L = 20"
      ]
    },
    {
      "cell_type": "code",
      "metadata": {
        "id": "B6lSaaEntrVf",
        "colab_type": "code",
        "outputId": "c06ec839-c8f1-4059-9671-e5379866e63d",
        "colab": {
          "base_uri": "https://localhost:8080/",
          "height": 34
        }
      },
      "source": [
        "dists = []\n",
        "y_predict = []\n",
        "final_X_list = []\n",
        "final_y_list = []\n",
        "\n",
        "import warnings\n",
        "warnings.filterwarnings(\"ignore\")\n",
        "\n",
        "j = 0\n",
        "\n",
        "for x_t in X_test:\n",
        "  \n",
        "  dists = calculate_scores(x_t, X_train, 20)\n",
        "  \n",
        "  final_X_list.clear()\n",
        "  final_y_list.clear()\n",
        "\n",
        "  for s, m, k in zip(dists, y_train, X_train):\n",
        "    for i in range(0, s):\n",
        "      final_X_list.append(k)\n",
        "      final_y_list.append(m)\n",
        "\n",
        "  final_X_train = np.asarray(final_X_list)\n",
        "  final_y_train = np.asarray(final_y_list)\n",
        "  \n",
        "  lda.fit(final_X_train, final_y_train) \n",
        "  y_predict.append(lda.predict(X=[x_t]))\n",
        "\n",
        "from sklearn.metrics import accuracy_score\n",
        "print(accuracy_score(y_test, np.asarray(y_predict)))"
      ],
      "execution_count": 0,
      "outputs": [
        {
          "output_type": "stream",
          "text": [
            "0.9361111111111111\n"
          ],
          "name": "stdout"
        }
      ]
    },
    {
      "cell_type": "markdown",
      "metadata": {
        "colab_type": "text",
        "id": "OlpkYeLvkMRA"
      },
      "source": [
        "### Test for L = 100"
      ]
    },
    {
      "cell_type": "code",
      "metadata": {
        "id": "9ReGwfr3jENJ",
        "colab_type": "code",
        "outputId": "62757140-dd98-4fc9-c401-e1e2951f9854",
        "colab": {
          "base_uri": "https://localhost:8080/",
          "height": 34
        }
      },
      "source": [
        "dists = []\n",
        "y_predict = []\n",
        "final_X_list = []\n",
        "final_y_list = []\n",
        "\n",
        "import warnings\n",
        "warnings.filterwarnings(\"ignore\")\n",
        "\n",
        "j = 0\n",
        "\n",
        "for x_t in X_test:\n",
        "  \n",
        "  dists = calculate_scores(x_t, X_train, 100)\n",
        "  \n",
        "  final_X_list.clear()\n",
        "  final_y_list.clear()\n",
        "\n",
        "  for s, m, k in zip(dists, y_train, X_train):\n",
        "    for i in range(0, s):\n",
        "      final_X_list.append(k)\n",
        "      final_y_list.append(m)\n",
        "\n",
        "  final_X_train = np.asarray(final_X_list)\n",
        "  final_y_train = np.asarray(final_y_list)\n",
        "  \n",
        "  lda.fit(final_X_train, final_y_train) \n",
        "  y_predict.append(lda.predict(X=[x_t]))\n",
        "\n",
        "from sklearn.metrics import accuracy_score\n",
        "print(accuracy_score(y_test, np.asarray(y_predict)))"
      ],
      "execution_count": 0,
      "outputs": [
        {
          "output_type": "stream",
          "text": [
            "0.9361111111111111\n"
          ],
          "name": "stdout"
        }
      ]
    },
    {
      "cell_type": "code",
      "metadata": {
        "id": "nLlw3sJZrJhB",
        "colab_type": "code",
        "outputId": "5b6b400a-8d41-4512-a2c8-02bdd79c2f7a",
        "colab": {
          "base_uri": "https://localhost:8080/",
          "height": 51
        }
      },
      "source": [
        "!jupyter nbconvert --to html Kernel_LDA.ipynb"
      ],
      "execution_count": 0,
      "outputs": [
        {
          "output_type": "stream",
          "text": [
            "[NbConvertApp] Converting notebook Kernel_LDA.ipynb to html\n",
            "[NbConvertApp] Writing 308914 bytes to Kernel_LDA.html\n"
          ],
          "name": "stdout"
        }
      ]
    }
  ]
}