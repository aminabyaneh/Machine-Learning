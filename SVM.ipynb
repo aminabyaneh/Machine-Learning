{
  "nbformat": 4,
  "nbformat_minor": 0,
  "metadata": {
    "colab": {
      "name": "SVM.ipynb",
      "provenance": [],
      "collapsed_sections": [],
      "toc_visible": true,
      "include_colab_link": true
    },
    "kernelspec": {
      "name": "python3",
      "display_name": "Python 3"
    }
  },
  "cells": [
    {
      "cell_type": "markdown",
      "metadata": {
        "id": "view-in-github",
        "colab_type": "text"
      },
      "source": [
        "<a href=\"https://colab.research.google.com/github/aminabyaneh/Machine_Learning/blob/master/SVM.ipynb\" target=\"_parent\"><img src=\"https://colab.research.google.com/assets/colab-badge.svg\" alt=\"Open In Colab\"/></a>"
      ]
    },
    {
      "cell_type": "markdown",
      "metadata": {
        "id": "7GiyseV_GXdW",
        "colab_type": "text"
      },
      "source": [
        "# SVM Classification"
      ]
    },
    {
      "cell_type": "code",
      "metadata": {
        "id": "54NclhIXM1gG",
        "colab_type": "code",
        "outputId": "f94ed1f5-3bca-417a-8d83-1674c57c0d19",
        "colab": {
          "base_uri": "https://localhost:8080/",
          "height": 86
        }
      },
      "source": [
        "#!ipython nbconvert --to html SVM.ipynb  \n"
      ],
      "execution_count": 0,
      "outputs": [
        {
          "output_type": "stream",
          "text": [
            "[TerminalIPythonApp] WARNING | Subcommand `ipython nbconvert` is deprecated and will be removed in future versions.\n",
            "[TerminalIPythonApp] WARNING | You likely want to use `jupyter nbconvert` in the future\n",
            "[NbConvertApp] Converting notebook SVM.ipynb to html\n",
            "[NbConvertApp] Writing 347954 bytes to SVM.html\n"
          ],
          "name": "stdout"
        }
      ]
    },
    {
      "cell_type": "markdown",
      "metadata": {
        "id": "9QlgvPxPGelJ",
        "colab_type": "text"
      },
      "source": [
        "## SVM Linear Kernel"
      ]
    },
    {
      "cell_type": "code",
      "metadata": {
        "id": "8UvUfXc4mKfu",
        "colab_type": "code",
        "outputId": "697b6a17-065c-459f-db58-29fe8a5bfc68",
        "colab": {
          "base_uri": "https://localhost:8080/",
          "height": 51
        }
      },
      "source": [
        "# loading digits dataset\n",
        "from sklearn.datasets import load_digits\n",
        "digits = load_digits()\n",
        "print('shape of digits data:', digits.data.shape)\n",
        "print('shape of digits target:', digits.target.shape)"
      ],
      "execution_count": 0,
      "outputs": [
        {
          "output_type": "stream",
          "text": [
            "shape of digits data: (1797, 64)\n",
            "shape of digits target: (1797,)\n"
          ],
          "name": "stdout"
        }
      ]
    },
    {
      "cell_type": "code",
      "metadata": {
        "id": "IOl-45SjoSsJ",
        "colab_type": "code",
        "outputId": "b7c1630b-8696-40a9-aed3-b8db2e105df0",
        "colab": {
          "base_uri": "https://localhost:8080/",
          "height": 320
        }
      },
      "source": [
        "import numpy as np\n",
        "from cv2 import imshow\n",
        "from matplotlib import pyplot as plt\n",
        "\n",
        "index_of_123 = np.where((digits.target == 1 ) | (digits.target == 2) | (digits.target == 3))\n",
        "X = digits.data[index_of_123]\n",
        "y = digits.target[index_of_123]\n",
        "print('shape of data is', X.shape, y.shape, '\\n')\n",
        "plt.imshow(np.reshape(X[11], (8,8)), cmap=plt.cm.gray)\n",
        "print('lable of image is', y[11])"
      ],
      "execution_count": 0,
      "outputs": [
        {
          "output_type": "stream",
          "text": [
            "shape of data is (542, 64) (542,) \n",
            "\n",
            "lable of image is 1\n"
          ],
          "name": "stdout"
        },
        {
          "output_type": "display_data",
          "data": {
            "image/png": "[encoded data removed]",
            "text/plain": [
              "<Figure size 432x288 with 1 Axes>"
            ]
          },
          "metadata": {
            "tags": []
          }
        }
      ]
    },
    {
      "cell_type": "code",
      "metadata": {
        "id": "gqI6-8MYMyDO",
        "colab_type": "code",
        "colab": {}
      },
      "source": [
        "from IPython.display import clear_output\n",
        "\n",
        "# Print iterations progress\n",
        "def progress(iteration, total):\n",
        "  prog = round((iteration / total) * 50)\n",
        "  out = prog * '+' + (50 - prog) * '*'\n",
        "  clear_output()\n",
        "  print(out)\n",
        "  # Print New Line on Complete\n",
        "  if iteration == total: \n",
        "      print()"
      ],
      "execution_count": 0,
      "outputs": []
    },
    {
      "cell_type": "code",
      "metadata": {
        "id": "12XAqz6Ys5sC",
        "colab_type": "code",
        "outputId": "a4bed627-64e6-40b3-bf1e-0cf3d6542f2f",
        "colab": {
          "base_uri": "https://localhost:8080/",
          "height": 51
        }
      },
      "source": [
        "# Import necessary functions\n",
        "import time\n",
        "from sklearn.svm import SVC\n",
        "from sklearn.model_selection import cross_val_score\n",
        "\n",
        "# Create a range for C parameter\n",
        "c_scores = []\n",
        "c_values = np.arange(2**(-10), 2**3, 0.001)\n",
        "\n",
        "# Iterate in all c values\n",
        "start = time.time()\n",
        "t = 5\n",
        "for c, i in zip(c_values, range(1, len(c_values) + 1)):\n",
        "  \n",
        "  end = time.time()\n",
        "  if (end - start > t):\n",
        "    t += 5\n",
        "    progress(i, len(c_values))\n",
        "\n",
        "  # Create a SVC classifier using a linear kernel\n",
        "  svm = SVC(kernel='linear', C=c, decision_function_shape='ovr')\n",
        "\n",
        "  # Use a cross validator \n",
        "  scores = cross_val_score(svm, X, y, cv=10)\n",
        "  c_scores.append(scores.mean())\n",
        "\n",
        "print(\"Total number of %d c scores is recorded\" % (len(c_scores)))"
      ],
      "execution_count": 0,
      "outputs": [
        {
          "output_type": "stream",
          "text": [
            "++++++++++++++++++++++++++++++++++++++++++++++++++\n",
            "Total number of 8000 c scores is recorded\n"
          ],
          "name": "stdout"
        }
      ]
    },
    {
      "cell_type": "code",
      "metadata": {
        "id": "Dhw4ILKeT5-X",
        "colab_type": "code",
        "outputId": "75b3e8f3-174f-40ea-b42b-ff88374c9e64",
        "colab": {
          "base_uri": "https://localhost:8080/",
          "height": 295
        }
      },
      "source": [
        "# Importing the required module \n",
        "import matplotlib.pyplot as plt \n",
        "  \n",
        "# Plotting the points  \n",
        "plt.scatter(c_values, c_scores) \n",
        "  \n",
        "# Naming the x axis \n",
        "plt.xlabel('values - axis') \n",
        "# Naming the y axis \n",
        "plt.ylabel('scores - axis') \n",
        "\n",
        "# Set axis\n",
        "plt.axis([0, 0.04, 0.99250, 0.99275])\n",
        "\n",
        "# Giving a title to my graph \n",
        "plt.title('Finding the best C value with 10-fold cross validation') \n",
        "  \n",
        "# Function to show the plot \n",
        "plt.show() "
      ],
      "execution_count": 0,
      "outputs": [
        {
          "output_type": "display_data",
          "data": {
            "image/png": "[encoded data removed]",
            "text/plain": [
              "<Figure size 432x288 with 1 Axes>"
            ]
          },
          "metadata": {
            "tags": []
          }
        }
      ]
    },
    {
      "cell_type": "code",
      "metadata": {
        "id": "n82bdm2gdHOe",
        "colab_type": "code",
        "outputId": "9ae938ad-671d-41bf-cdb8-872fb31cfd03",
        "colab": {
          "base_uri": "https://localhost:8080/",
          "height": 51
        }
      },
      "source": [
        "print('Best C value is:')\n",
        "print(c_values[np.argmax(np.asarray(c_scores))])"
      ],
      "execution_count": 0,
      "outputs": [
        {
          "output_type": "stream",
          "text": [
            "Best C value is:\n",
            "0.0019765625\n"
          ],
          "name": "stdout"
        }
      ]
    },
    {
      "cell_type": "code",
      "metadata": {
        "id": "H4OzwrNjeEjv",
        "colab_type": "code",
        "outputId": "d3333fe0-5dee-429c-b06a-a56e5c1a08bf",
        "colab": {
          "base_uri": "https://localhost:8080/",
          "height": 136
        }
      },
      "source": [
        "# Create a SVC classifier using a linear kernel\n",
        "from sklearn.model_selection import train_test_split\n",
        "from sklearn.metrics import accuracy_score\n",
        "\n",
        "X_train, X_test, y_train, y_test = train_test_split(X, y, test_size=0.2)\n",
        "\n",
        "svm = SVC(kernel='linear', C=0.0019765625, decision_function_shape='ovr')\n",
        "svm.fit(X=X_train, y=y_train)\n",
        "\n",
        "print('Accuracy on train data is', accuracy_score(svm.predict(X=X_train), y_train))\n",
        "print('Accuracy on test data is', accuracy_score(svm.predict(X=X_test), y_test))\n",
        "s = svm.support_\n",
        "print('Support vectors are:')\n",
        "print(s)"
      ],
      "execution_count": 0,
      "outputs": [
        {
          "output_type": "stream",
          "text": [
            "Accuracy on train data is 0.9976905311778291\n",
            "Accuracy on test data is 1.0\n",
            "Support vectors are:\n",
            "[  0  35  49  59  82  88  95 123 158 168 182 197 212 241 248 271 333 340\n",
            " 353 362 372   2   6  11  21  30  41  52  84  99 109 115 116 156 161 164\n",
            " 174 233 285 292 298 320 343 345 348 361 420 421  54  68  69  71  90 101\n",
            " 179 185 202 211 231 273 276 306 309 363 378 389 411]\n"
          ],
          "name": "stdout"
        }
      ]
    },
    {
      "cell_type": "code",
      "metadata": {
        "id": "OYOsMo8HUeUU",
        "colab_type": "code",
        "outputId": "7b7f137b-49b0-429b-c359-205ce53d9eea",
        "colab": {
          "base_uri": "https://localhost:8080/",
          "height": 286
        }
      },
      "source": [
        "# Plot some support vectors\n",
        "plt.imshow(np.reshape(X[411], (8,8)), cmap=plt.cm.gray)"
      ],
      "execution_count": 0,
      "outputs": [
        {
          "output_type": "execute_result",
          "data": {
            "text/plain": [
              "<matplotlib.image.AxesImage at 0x7f6b23503b38>"
            ]
          },
          "metadata": {
            "tags": []
          },
          "execution_count": 105
        },
        {
          "output_type": "display_data",
          "data": {
            "image/png": "[encoded data removed]",
            "text/plain": [
              "<Figure size 432x288 with 1 Axes>"
            ]
          },
          "metadata": {
            "tags": []
          }
        }
      ]
    },
    {
      "cell_type": "code",
      "metadata": {
        "id": "HqfofEhPg7wu",
        "colab_type": "code",
        "outputId": "e8a953a3-ad2e-4874-e223-a8c47a31991e",
        "colab": {
          "base_uri": "https://localhost:8080/",
          "height": 286
        }
      },
      "source": [
        "plt.imshow(np.reshape(X[276], (8,8)), cmap=plt.cm.gray)\n"
      ],
      "execution_count": 0,
      "outputs": [
        {
          "output_type": "execute_result",
          "data": {
            "text/plain": [
              "<matplotlib.image.AxesImage at 0x7f6b2dee1c88>"
            ]
          },
          "metadata": {
            "tags": []
          },
          "execution_count": 106
        },
        {
          "output_type": "display_data",
          "data": {
            "image/png": "[encoded data removed]",
            "text/plain": [
              "<Figure size 432x288 with 1 Axes>"
            ]
          },
          "metadata": {
            "tags": []
          }
        }
      ]
    },
    {
      "cell_type": "code",
      "metadata": {
        "id": "Xedgc1Emg-Wu",
        "colab_type": "code",
        "outputId": "5a6659f7-8957-450c-e6a0-7bf335eaaf5d",
        "colab": {
          "base_uri": "https://localhost:8080/",
          "height": 286
        }
      },
      "source": [
        "plt.imshow(np.reshape(X[21], (8,8)), cmap=plt.cm.gray)"
      ],
      "execution_count": 0,
      "outputs": [
        {
          "output_type": "execute_result",
          "data": {
            "text/plain": [
              "<matplotlib.image.AxesImage at 0x7f6b23613668>"
            ]
          },
          "metadata": {
            "tags": []
          },
          "execution_count": 107
        },
        {
          "output_type": "display_data",
          "data": {
            "image/png": "[encoded data removed]",
            "text/plain": [
              "<Figure size 432x288 with 1 Axes>"
            ]
          },
          "metadata": {
            "tags": []
          }
        }
      ]
    },
    {
      "cell_type": "markdown",
      "metadata": {
        "id": "0m4el7RVUiLq",
        "colab_type": "text"
      },
      "source": [
        "## SVM RBF Kernel "
      ]
    },
    {
      "cell_type": "code",
      "metadata": {
        "id": "-h2ujWu-Udg1",
        "colab_type": "code",
        "outputId": "07d6fb46-bd68-4318-8986-3e56fe70bf93",
        "colab": {
          "base_uri": "https://localhost:8080/",
          "height": 51
        }
      },
      "source": [
        "# Import necessary functions\n",
        "import time\n",
        "from sklearn.svm import SVC\n",
        "from sklearn.model_selection import cross_val_score\n",
        "\n",
        "# Create a range for C parameter\n",
        "proposed_gamma_value = 1\n",
        "\n",
        "g_scores = []\n",
        "g_values = np.arange(0.01 * proposed_gamma_value, 10 * proposed_gamma_value, 0.1)\n",
        "\n",
        "# Iterate in all c values\n",
        "start = time.time()\n",
        "t = 5\n",
        "for g, i in zip(g_values, range(1, len(g_values) + 1)):\n",
        "  \n",
        "  end = time.time()\n",
        "  if (end - start > t):\n",
        "    t += 5\n",
        "    progress(i, len(g_values))\n",
        "\n",
        "  # Create a SVC classifier using a linear kernel\n",
        "  svm = SVC(kernel='rbf', gamma=g, C=0.0019765625)\n",
        "\n",
        "  # Use a cross validator \n",
        "  scores = cross_val_score(svm, X, y, cv=10)\n",
        "  g_scores.append(scores.mean())\n",
        "\n",
        "print(\"Total number of %d g scores is recorded\" % (len(c_scores)))"
      ],
      "execution_count": 0,
      "outputs": [
        {
          "output_type": "stream",
          "text": [
            "++++++++++++++++++++++++++++++++++++++++++++++****\n",
            "Total number of 8013 g scores is recorded\n"
          ],
          "name": "stdout"
        }
      ]
    },
    {
      "cell_type": "code",
      "metadata": {
        "id": "6hyIm4qDjGiF",
        "colab_type": "code",
        "outputId": "f22c0723-0523-4780-b404-71e5787d737c",
        "colab": {
          "base_uri": "https://localhost:8080/",
          "height": 295
        }
      },
      "source": [
        "# Plotting the points  \n",
        "plt.scatter(g_values, g_scores) \n",
        "  \n",
        "# Naming the x axis \n",
        "plt.xlabel('values - axis') \n",
        "# Naming the y axis \n",
        "plt.ylabel('scores - axis') \n",
        "\n",
        "# Set axis\n",
        "plt.axis([0, 10, 0, 1])\n",
        "\n",
        "# Giving a title to my graph \n",
        "plt.title('Finding the best C value with 10-fold cross validation') \n",
        "  \n",
        "# Function to show the plot \n",
        "plt.show() "
      ],
      "execution_count": 0,
      "outputs": [
        {
          "output_type": "display_data",
          "data": {
            "image/png": "[encoded data removed]",
            "text/plain": [
              "<Figure size 432x288 with 1 Axes>"
            ]
          },
          "metadata": {
            "tags": []
          }
        }
      ]
    },
    {
      "cell_type": "code",
      "metadata": {
        "id": "H_pADbv8ja2E",
        "colab_type": "code",
        "outputId": "dbc41263-ee2b-429f-d718-c6c5b2e38884",
        "colab": {
          "base_uri": "https://localhost:8080/",
          "height": 51
        }
      },
      "source": [
        "print('Best G value is:')\n",
        "print(g_values[np.argmax(np.asarray(g_scores))])"
      ],
      "execution_count": 0,
      "outputs": [
        {
          "output_type": "stream",
          "text": [
            "Best G value is:\n",
            "1.2100000000000002\n"
          ],
          "name": "stdout"
        }
      ]
    },
    {
      "cell_type": "code",
      "metadata": {
        "id": "c731Mhykjrm0",
        "colab_type": "code",
        "outputId": "0d002319-1b62-4f8c-80ac-db25466447f8",
        "colab": {
          "base_uri": "https://localhost:8080/",
          "height": 51
        }
      },
      "source": [
        "# Create a SVC classifier using a rbf kernel\n",
        "from sklearn.model_selection import train_test_split\n",
        "from sklearn.metrics import accuracy_score\n",
        "\n",
        "X_train, X_test, y_train, y_test = train_test_split(X, y, test_size=0.2)\n",
        "\n",
        "svm = SVC(kernel='linear', gamma=1.2100000000000002, C=0.0019765625)\n",
        "svm.fit(X=X_train, y=y_train)\n",
        "\n",
        "print('Accuracy on train data is', accuracy_score(svm.predict(X=X_train), y_train))\n",
        "print('Accuracy on test data is', accuracy_score(svm.predict(X=X_test), y_test))"
      ],
      "execution_count": 0,
      "outputs": [
        {
          "output_type": "stream",
          "text": [
            "Accuracy on train data is 1.0\n",
            "Accuracy on test data is 0.9908256880733946\n"
          ],
          "name": "stdout"
        }
      ]
    }
  ]
}